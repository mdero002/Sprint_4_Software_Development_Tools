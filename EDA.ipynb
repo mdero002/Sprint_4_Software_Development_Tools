{
 "cells": [
  {
   "cell_type": "code",
   "execution_count": 1,
   "metadata": {},
   "outputs": [],
   "source": [
    "#import libraries\n",
    "\n",
    "import pandas as pd\n",
    "import numpy as np\n",
    "import matplotlib.pyplot as plt\n",
    "import streamlit as st\n",
    "import plotly.express as px\n",
    "import altair as alt"
   ]
  },
  {
   "cell_type": "markdown",
   "metadata": {},
   "source": [
    "Imported the necessary libraries"
   ]
  },
  {
   "cell_type": "code",
   "execution_count": 2,
   "metadata": {},
   "outputs": [],
   "source": [
    "# Load the data\n",
    "df = pd.read_csv('vehicles_us.csv')"
   ]
  },
  {
   "cell_type": "markdown",
   "metadata": {},
   "source": [
    "Downloaded the dataset"
   ]
  },
  {
   "cell_type": "code",
   "execution_count": 3,
   "metadata": {},
   "outputs": [
    {
     "name": "stdout",
     "output_type": "stream",
     "text": [
      "<class 'pandas.core.frame.DataFrame'>\n",
      "RangeIndex: 51525 entries, 0 to 51524\n",
      "Data columns (total 13 columns):\n",
      " #   Column        Non-Null Count  Dtype  \n",
      "---  ------        --------------  -----  \n",
      " 0   price         51525 non-null  int64  \n",
      " 1   model_year    47906 non-null  float64\n",
      " 2   model         51525 non-null  object \n",
      " 3   condition     51525 non-null  object \n",
      " 4   cylinders     46265 non-null  float64\n",
      " 5   fuel          51525 non-null  object \n",
      " 6   odometer      43633 non-null  float64\n",
      " 7   transmission  51525 non-null  object \n",
      " 8   type          51525 non-null  object \n",
      " 9   paint_color   42258 non-null  object \n",
      " 10  is_4wd        25572 non-null  float64\n",
      " 11  date_posted   51525 non-null  object \n",
      " 12  days_listed   51525 non-null  int64  \n",
      "dtypes: float64(4), int64(2), object(7)\n",
      "memory usage: 5.1+ MB\n",
      "\n"
     ]
    },
    {
     "data": {
      "text/html": [
       "<div>\n",
       "<style scoped>\n",
       "    .dataframe tbody tr th:only-of-type {\n",
       "        vertical-align: middle;\n",
       "    }\n",
       "\n",
       "    .dataframe tbody tr th {\n",
       "        vertical-align: top;\n",
       "    }\n",
       "\n",
       "    .dataframe thead th {\n",
       "        text-align: right;\n",
       "    }\n",
       "</style>\n",
       "<table border=\"1\" class=\"dataframe\">\n",
       "  <thead>\n",
       "    <tr style=\"text-align: right;\">\n",
       "      <th></th>\n",
       "      <th>price</th>\n",
       "      <th>model_year</th>\n",
       "      <th>cylinders</th>\n",
       "      <th>odometer</th>\n",
       "      <th>is_4wd</th>\n",
       "      <th>days_listed</th>\n",
       "    </tr>\n",
       "  </thead>\n",
       "  <tbody>\n",
       "    <tr>\n",
       "      <th>count</th>\n",
       "      <td>51525.000000</td>\n",
       "      <td>47906.000000</td>\n",
       "      <td>46265.000000</td>\n",
       "      <td>43633.000000</td>\n",
       "      <td>25572.0</td>\n",
       "      <td>51525.00000</td>\n",
       "    </tr>\n",
       "    <tr>\n",
       "      <th>mean</th>\n",
       "      <td>12132.464920</td>\n",
       "      <td>2009.750470</td>\n",
       "      <td>6.125235</td>\n",
       "      <td>115553.461738</td>\n",
       "      <td>1.0</td>\n",
       "      <td>39.55476</td>\n",
       "    </tr>\n",
       "    <tr>\n",
       "      <th>std</th>\n",
       "      <td>10040.803015</td>\n",
       "      <td>6.282065</td>\n",
       "      <td>1.660360</td>\n",
       "      <td>65094.611341</td>\n",
       "      <td>0.0</td>\n",
       "      <td>28.20427</td>\n",
       "    </tr>\n",
       "    <tr>\n",
       "      <th>min</th>\n",
       "      <td>1.000000</td>\n",
       "      <td>1908.000000</td>\n",
       "      <td>3.000000</td>\n",
       "      <td>0.000000</td>\n",
       "      <td>1.0</td>\n",
       "      <td>0.00000</td>\n",
       "    </tr>\n",
       "    <tr>\n",
       "      <th>25%</th>\n",
       "      <td>5000.000000</td>\n",
       "      <td>2006.000000</td>\n",
       "      <td>4.000000</td>\n",
       "      <td>70000.000000</td>\n",
       "      <td>1.0</td>\n",
       "      <td>19.00000</td>\n",
       "    </tr>\n",
       "    <tr>\n",
       "      <th>50%</th>\n",
       "      <td>9000.000000</td>\n",
       "      <td>2011.000000</td>\n",
       "      <td>6.000000</td>\n",
       "      <td>113000.000000</td>\n",
       "      <td>1.0</td>\n",
       "      <td>33.00000</td>\n",
       "    </tr>\n",
       "    <tr>\n",
       "      <th>75%</th>\n",
       "      <td>16839.000000</td>\n",
       "      <td>2014.000000</td>\n",
       "      <td>8.000000</td>\n",
       "      <td>155000.000000</td>\n",
       "      <td>1.0</td>\n",
       "      <td>53.00000</td>\n",
       "    </tr>\n",
       "    <tr>\n",
       "      <th>max</th>\n",
       "      <td>375000.000000</td>\n",
       "      <td>2019.000000</td>\n",
       "      <td>12.000000</td>\n",
       "      <td>990000.000000</td>\n",
       "      <td>1.0</td>\n",
       "      <td>271.00000</td>\n",
       "    </tr>\n",
       "  </tbody>\n",
       "</table>\n",
       "</div>"
      ],
      "text/plain": [
       "               price    model_year     cylinders       odometer   is_4wd  \\\n",
       "count   51525.000000  47906.000000  46265.000000   43633.000000  25572.0   \n",
       "mean    12132.464920   2009.750470      6.125235  115553.461738      1.0   \n",
       "std     10040.803015      6.282065      1.660360   65094.611341      0.0   \n",
       "min         1.000000   1908.000000      3.000000       0.000000      1.0   \n",
       "25%      5000.000000   2006.000000      4.000000   70000.000000      1.0   \n",
       "50%      9000.000000   2011.000000      6.000000  113000.000000      1.0   \n",
       "75%     16839.000000   2014.000000      8.000000  155000.000000      1.0   \n",
       "max    375000.000000   2019.000000     12.000000  990000.000000      1.0   \n",
       "\n",
       "       days_listed  \n",
       "count  51525.00000  \n",
       "mean      39.55476  \n",
       "std       28.20427  \n",
       "min        0.00000  \n",
       "25%       19.00000  \n",
       "50%       33.00000  \n",
       "75%       53.00000  \n",
       "max      271.00000  "
      ]
     },
     "execution_count": 3,
     "metadata": {},
     "output_type": "execute_result"
    }
   ],
   "source": [
    "# Print general summary of the information in the dataset\n",
    "df.info()\n",
    "print('')\n",
    "df.describe()"
   ]
  },
  {
   "cell_type": "markdown",
   "metadata": {},
   "source": [
    "The initial exploration of the data shows the following:\n",
    "There are 51525 entries in this data set\n",
    "\n",
    "There are 13 columns in this data set that are as follows:\n",
    "\n",
    "    Price- price of the car\n",
    "\n",
    "    model_year - year of the cars\n",
    "\n",
    "    model- model of the car\n",
    "\n",
    "    condition- condition of the car\n",
    "\n",
    "    cylinders- number of engine cylinders\n",
    "\n",
    "    fuel - type of fuel\n",
    "\n",
    "    odometer- mileage on the vehicle at the time of the ad\n",
    "\n",
    "    transmission- type of transmission\n",
    "\n",
    "    paint_color- color of the car\n",
    "\n",
    "    is-4wd- if the car has 4 wheel drive\n",
    "\n",
    "    date_posted- the date the ad was posted\n",
    "\n",
    "    days_listed- the number of days the ad ran \n",
    "\n",
    "Entries are missing for year_model, cylinders, odometer, paint_color, and is-4wd\n",
    "\n",
    "dtypes include: float64(4), int64(2), and object(7)\n",
    "    "
   ]
  },
  {
   "cell_type": "code",
   "execution_count": 4,
   "metadata": {},
   "outputs": [
    {
     "data": {
      "text/html": [
       "<div>\n",
       "<style scoped>\n",
       "    .dataframe tbody tr th:only-of-type {\n",
       "        vertical-align: middle;\n",
       "    }\n",
       "\n",
       "    .dataframe tbody tr th {\n",
       "        vertical-align: top;\n",
       "    }\n",
       "\n",
       "    .dataframe thead th {\n",
       "        text-align: right;\n",
       "    }\n",
       "</style>\n",
       "<table border=\"1\" class=\"dataframe\">\n",
       "  <thead>\n",
       "    <tr style=\"text-align: right;\">\n",
       "      <th></th>\n",
       "      <th>price</th>\n",
       "      <th>model_year</th>\n",
       "      <th>model</th>\n",
       "      <th>condition</th>\n",
       "      <th>cylinders</th>\n",
       "      <th>fuel</th>\n",
       "      <th>odometer</th>\n",
       "      <th>transmission</th>\n",
       "      <th>type</th>\n",
       "      <th>paint_color</th>\n",
       "      <th>is_4wd</th>\n",
       "      <th>date_posted</th>\n",
       "      <th>days_listed</th>\n",
       "    </tr>\n",
       "  </thead>\n",
       "  <tbody>\n",
       "    <tr>\n",
       "      <th>0</th>\n",
       "      <td>9400</td>\n",
       "      <td>2011.0</td>\n",
       "      <td>bmw x5</td>\n",
       "      <td>good</td>\n",
       "      <td>6.0</td>\n",
       "      <td>gas</td>\n",
       "      <td>145000.0</td>\n",
       "      <td>automatic</td>\n",
       "      <td>SUV</td>\n",
       "      <td>NaN</td>\n",
       "      <td>1.0</td>\n",
       "      <td>2018-06-23</td>\n",
       "      <td>19</td>\n",
       "    </tr>\n",
       "    <tr>\n",
       "      <th>1</th>\n",
       "      <td>25500</td>\n",
       "      <td>NaN</td>\n",
       "      <td>ford f-150</td>\n",
       "      <td>good</td>\n",
       "      <td>6.0</td>\n",
       "      <td>gas</td>\n",
       "      <td>88705.0</td>\n",
       "      <td>automatic</td>\n",
       "      <td>pickup</td>\n",
       "      <td>white</td>\n",
       "      <td>1.0</td>\n",
       "      <td>2018-10-19</td>\n",
       "      <td>50</td>\n",
       "    </tr>\n",
       "    <tr>\n",
       "      <th>2</th>\n",
       "      <td>5500</td>\n",
       "      <td>2013.0</td>\n",
       "      <td>hyundai sonata</td>\n",
       "      <td>like new</td>\n",
       "      <td>4.0</td>\n",
       "      <td>gas</td>\n",
       "      <td>110000.0</td>\n",
       "      <td>automatic</td>\n",
       "      <td>sedan</td>\n",
       "      <td>red</td>\n",
       "      <td>NaN</td>\n",
       "      <td>2019-02-07</td>\n",
       "      <td>79</td>\n",
       "    </tr>\n",
       "    <tr>\n",
       "      <th>3</th>\n",
       "      <td>1500</td>\n",
       "      <td>2003.0</td>\n",
       "      <td>ford f-150</td>\n",
       "      <td>fair</td>\n",
       "      <td>8.0</td>\n",
       "      <td>gas</td>\n",
       "      <td>NaN</td>\n",
       "      <td>automatic</td>\n",
       "      <td>pickup</td>\n",
       "      <td>NaN</td>\n",
       "      <td>NaN</td>\n",
       "      <td>2019-03-22</td>\n",
       "      <td>9</td>\n",
       "    </tr>\n",
       "    <tr>\n",
       "      <th>4</th>\n",
       "      <td>14900</td>\n",
       "      <td>2017.0</td>\n",
       "      <td>chrysler 200</td>\n",
       "      <td>excellent</td>\n",
       "      <td>4.0</td>\n",
       "      <td>gas</td>\n",
       "      <td>80903.0</td>\n",
       "      <td>automatic</td>\n",
       "      <td>sedan</td>\n",
       "      <td>black</td>\n",
       "      <td>NaN</td>\n",
       "      <td>2019-04-02</td>\n",
       "      <td>28</td>\n",
       "    </tr>\n",
       "    <tr>\n",
       "      <th>5</th>\n",
       "      <td>14990</td>\n",
       "      <td>2014.0</td>\n",
       "      <td>chrysler 300</td>\n",
       "      <td>excellent</td>\n",
       "      <td>6.0</td>\n",
       "      <td>gas</td>\n",
       "      <td>57954.0</td>\n",
       "      <td>automatic</td>\n",
       "      <td>sedan</td>\n",
       "      <td>black</td>\n",
       "      <td>1.0</td>\n",
       "      <td>2018-06-20</td>\n",
       "      <td>15</td>\n",
       "    </tr>\n",
       "    <tr>\n",
       "      <th>6</th>\n",
       "      <td>12990</td>\n",
       "      <td>2015.0</td>\n",
       "      <td>toyota camry</td>\n",
       "      <td>excellent</td>\n",
       "      <td>4.0</td>\n",
       "      <td>gas</td>\n",
       "      <td>79212.0</td>\n",
       "      <td>automatic</td>\n",
       "      <td>sedan</td>\n",
       "      <td>white</td>\n",
       "      <td>NaN</td>\n",
       "      <td>2018-12-27</td>\n",
       "      <td>73</td>\n",
       "    </tr>\n",
       "    <tr>\n",
       "      <th>7</th>\n",
       "      <td>15990</td>\n",
       "      <td>2013.0</td>\n",
       "      <td>honda pilot</td>\n",
       "      <td>excellent</td>\n",
       "      <td>6.0</td>\n",
       "      <td>gas</td>\n",
       "      <td>109473.0</td>\n",
       "      <td>automatic</td>\n",
       "      <td>SUV</td>\n",
       "      <td>black</td>\n",
       "      <td>1.0</td>\n",
       "      <td>2019-01-07</td>\n",
       "      <td>68</td>\n",
       "    </tr>\n",
       "    <tr>\n",
       "      <th>8</th>\n",
       "      <td>11500</td>\n",
       "      <td>2012.0</td>\n",
       "      <td>kia sorento</td>\n",
       "      <td>excellent</td>\n",
       "      <td>4.0</td>\n",
       "      <td>gas</td>\n",
       "      <td>104174.0</td>\n",
       "      <td>automatic</td>\n",
       "      <td>SUV</td>\n",
       "      <td>NaN</td>\n",
       "      <td>1.0</td>\n",
       "      <td>2018-07-16</td>\n",
       "      <td>19</td>\n",
       "    </tr>\n",
       "    <tr>\n",
       "      <th>9</th>\n",
       "      <td>9200</td>\n",
       "      <td>2008.0</td>\n",
       "      <td>honda pilot</td>\n",
       "      <td>excellent</td>\n",
       "      <td>NaN</td>\n",
       "      <td>gas</td>\n",
       "      <td>147191.0</td>\n",
       "      <td>automatic</td>\n",
       "      <td>SUV</td>\n",
       "      <td>blue</td>\n",
       "      <td>1.0</td>\n",
       "      <td>2019-02-15</td>\n",
       "      <td>17</td>\n",
       "    </tr>\n",
       "  </tbody>\n",
       "</table>\n",
       "</div>"
      ],
      "text/plain": [
       "   price  model_year           model  condition  cylinders fuel  odometer  \\\n",
       "0   9400      2011.0          bmw x5       good        6.0  gas  145000.0   \n",
       "1  25500         NaN      ford f-150       good        6.0  gas   88705.0   \n",
       "2   5500      2013.0  hyundai sonata   like new        4.0  gas  110000.0   \n",
       "3   1500      2003.0      ford f-150       fair        8.0  gas       NaN   \n",
       "4  14900      2017.0    chrysler 200  excellent        4.0  gas   80903.0   \n",
       "5  14990      2014.0    chrysler 300  excellent        6.0  gas   57954.0   \n",
       "6  12990      2015.0    toyota camry  excellent        4.0  gas   79212.0   \n",
       "7  15990      2013.0     honda pilot  excellent        6.0  gas  109473.0   \n",
       "8  11500      2012.0     kia sorento  excellent        4.0  gas  104174.0   \n",
       "9   9200      2008.0     honda pilot  excellent        NaN  gas  147191.0   \n",
       "\n",
       "  transmission    type paint_color  is_4wd date_posted  days_listed  \n",
       "0    automatic     SUV         NaN     1.0  2018-06-23           19  \n",
       "1    automatic  pickup       white     1.0  2018-10-19           50  \n",
       "2    automatic   sedan         red     NaN  2019-02-07           79  \n",
       "3    automatic  pickup         NaN     NaN  2019-03-22            9  \n",
       "4    automatic   sedan       black     NaN  2019-04-02           28  \n",
       "5    automatic   sedan       black     1.0  2018-06-20           15  \n",
       "6    automatic   sedan       white     NaN  2018-12-27           73  \n",
       "7    automatic     SUV       black     1.0  2019-01-07           68  \n",
       "8    automatic     SUV         NaN     1.0  2018-07-16           19  \n",
       "9    automatic     SUV        blue     1.0  2019-02-15           17  "
      ]
     },
     "metadata": {},
     "output_type": "display_data"
    }
   ],
   "source": [
    "display(df.head(10))"
   ]
  },
  {
   "cell_type": "code",
   "execution_count": 5,
   "metadata": {},
   "outputs": [
    {
     "name": "stdout",
     "output_type": "stream",
     "text": [
      "price\n",
      "1        798\n",
      "6995     719\n",
      "5995     655\n",
      "4995     624\n",
      "3500     620\n",
      "        ... \n",
      "47665      1\n",
      "22545      1\n",
      "41700      1\n",
      "6509       1\n",
      "7670       1\n",
      "Name: count, Length: 3443, dtype: int64\n",
      "model_year\n",
      "NaN       3619\n",
      "2013.0    3549\n",
      "2012.0    3468\n",
      "2014.0    3448\n",
      "2011.0    3375\n",
      "          ... \n",
      "1948.0       1\n",
      "1961.0       1\n",
      "1936.0       1\n",
      "1949.0       1\n",
      "1929.0       1\n",
      "Name: count, Length: 69, dtype: int64\n",
      "model\n",
      "ford f-150                           2796\n",
      "chevrolet silverado 1500             2171\n",
      "ram 1500                             1750\n",
      "chevrolet silverado                  1271\n",
      "jeep wrangler                        1119\n",
      "                                     ... \n",
      "ford f-250 super duty                 241\n",
      "acura tl                              236\n",
      "kia sorento                           236\n",
      "nissan murano                         235\n",
      "mercedes-benz benze sprinter 2500      41\n",
      "Name: count, Length: 100, dtype: int64\n",
      "condition\n",
      "excellent    24773\n",
      "good         20145\n",
      "like new      4742\n",
      "fair          1607\n",
      "new            143\n",
      "salvage        115\n",
      "Name: count, dtype: int64\n",
      "cylinders\n",
      "8.0     15844\n",
      "6.0     15700\n",
      "4.0     13864\n",
      "NaN      5260\n",
      "10.0      549\n",
      "5.0       272\n",
      "3.0        34\n",
      "12.0        2\n",
      "Name: count, dtype: int64\n",
      "fuel\n",
      "gas         47288\n",
      "diesel       3714\n",
      "hybrid        409\n",
      "other         108\n",
      "electric        6\n",
      "Name: count, dtype: int64\n",
      "odometer\n",
      "NaN         7892\n",
      "0.0          185\n",
      "140000.0     183\n",
      "120000.0     179\n",
      "130000.0     178\n",
      "            ... \n",
      "47750.0        1\n",
      "181645.0       1\n",
      "105656.0       1\n",
      "138608.0       1\n",
      "129644.0       1\n",
      "Name: count, Length: 17763, dtype: int64\n",
      "transmission\n",
      "automatic    46902\n",
      "manual        2829\n",
      "other         1794\n",
      "Name: count, dtype: int64\n",
      "type\n",
      "SUV            12405\n",
      "truck          12353\n",
      "sedan          12154\n",
      "pickup          6988\n",
      "coupe           2303\n",
      "wagon           1541\n",
      "mini-van        1161\n",
      "hatchback       1047\n",
      "van              633\n",
      "convertible      446\n",
      "other            256\n",
      "offroad          214\n",
      "bus               24\n",
      "Name: count, dtype: int64\n",
      "paint_color\n",
      "white     10029\n",
      "NaN        9267\n",
      "black      7692\n",
      "silver     6244\n",
      "grey       5037\n",
      "blue       4475\n",
      "red        4421\n",
      "green      1396\n",
      "brown      1223\n",
      "custom     1153\n",
      "yellow      255\n",
      "orange      231\n",
      "purple      102\n",
      "Name: count, dtype: int64\n",
      "is_4wd\n",
      "NaN    25953\n",
      "1.0    25572\n",
      "Name: count, dtype: int64\n",
      "date_posted\n",
      "2019-03-17    186\n",
      "2019-01-05    184\n",
      "2018-09-20    178\n",
      "2019-03-11    176\n",
      "2018-10-09    174\n",
      "             ... \n",
      "2018-06-18    119\n",
      "2018-07-04    118\n",
      "2019-01-11    117\n",
      "2018-06-08    117\n",
      "2019-01-04    116\n",
      "Name: count, Length: 354, dtype: int64\n",
      "days_listed\n",
      "18     959\n",
      "24     950\n",
      "22     945\n",
      "19     941\n",
      "20     934\n",
      "      ... \n",
      "194      1\n",
      "168      1\n",
      "252      1\n",
      "200      1\n",
      "186      1\n",
      "Name: count, Length: 227, dtype: int64\n"
     ]
    }
   ],
   "source": [
    "# Explore distribution of values in every column\n",
    "for column in df.columns:\n",
    "    print(df[column].value_counts(dropna=False))"
   ]
  },
  {
   "cell_type": "code",
   "execution_count": 6,
   "metadata": {},
   "outputs": [
    {
     "data": {
      "text/plain": [
       "np.int64(0)"
      ]
     },
     "execution_count": 6,
     "metadata": {},
     "output_type": "execute_result"
    }
   ],
   "source": [
    "# Check for duplicates\n",
    "df.duplicated().sum()"
   ]
  },
  {
   "cell_type": "markdown",
   "metadata": {},
   "source": [
    "No duplicates were found"
   ]
  },
  {
   "cell_type": "code",
   "execution_count": 7,
   "metadata": {},
   "outputs": [
    {
     "data": {
      "text/plain": [
       "price               0\n",
       "model_year       3619\n",
       "model               0\n",
       "condition           0\n",
       "cylinders        5260\n",
       "fuel                0\n",
       "odometer         7892\n",
       "transmission        0\n",
       "type                0\n",
       "paint_color      9267\n",
       "is_4wd          25953\n",
       "date_posted         0\n",
       "days_listed         0\n",
       "dtype: int64"
      ]
     },
     "execution_count": 7,
     "metadata": {},
     "output_type": "execute_result"
    }
   ],
   "source": [
    "# Check for missing values\n",
    "df.isna().sum()"
   ]
  },
  {
   "cell_type": "markdown",
   "metadata": {},
   "source": [
    "Further exploration of the missing values to get a missiung value count for each column."
   ]
  },
  {
   "cell_type": "markdown",
   "metadata": {},
   "source": [
    "Next steps: Handling Missing Data\n",
    "\n",
    "Missing data types will be handled in the following way.\n",
    "For the  is_4wd, this column should be a Boolean value with 1 = True and 0 = False\n",
    "\n",
    "For the missing paint_colors, I will replace with the string 'unknown'.\n",
    "\n",
    "For the missing values in model_year and cylinders, I will use the median values for each model of car to replace the missing values to prevent skewing the data too much.\n",
    "\n",
    "For the missing values in odometer, I will use the median value based on the condition of the car to replace the missing values to prevent from skewing the data too much."
   ]
  },
  {
   "cell_type": "code",
   "execution_count": 8,
   "metadata": {},
   "outputs": [
    {
     "data": {
      "text/plain": [
       "is_4wd\n",
       "NaN    25953\n",
       "1.0    25572\n",
       "Name: count, dtype: int64"
      ]
     },
     "execution_count": 8,
     "metadata": {},
     "output_type": "execute_result"
    }
   ],
   "source": [
    "# Get the value counts for the is_4wd column\n",
    "df['is_4wd'].value_counts(dropna=False)"
   ]
  },
  {
   "cell_type": "code",
   "execution_count": 9,
   "metadata": {},
   "outputs": [
    {
     "data": {
      "text/plain": [
       "is_4wd\n",
       "0.0    25953\n",
       "1.0    25572\n",
       "Name: count, dtype: int64"
      ]
     },
     "execution_count": 9,
     "metadata": {},
     "output_type": "execute_result"
    }
   ],
   "source": [
    "# Replace missing values in is_4wd column with 0\n",
    "df['is_4wd'] = df['is_4wd'].fillna(0)\n",
    "\n",
    "# Recheck the value counts for the is_4wd column\n",
    "df['is_4wd'].value_counts(dropna=False)"
   ]
  },
  {
   "cell_type": "markdown",
   "metadata": {},
   "source": [
    "All missing values have been replaced using the Boolean values 0 = False and 1 = True"
   ]
  },
  {
   "cell_type": "code",
   "execution_count": 10,
   "metadata": {},
   "outputs": [
    {
     "data": {
      "text/plain": [
       "np.int64(9267)"
      ]
     },
     "execution_count": 10,
     "metadata": {},
     "output_type": "execute_result"
    }
   ],
   "source": [
    "# Check for the missing values in the paint_color column\n",
    "df['paint_color'].isna().sum()"
   ]
  },
  {
   "cell_type": "code",
   "execution_count": 11,
   "metadata": {},
   "outputs": [
    {
     "data": {
      "text/plain": [
       "paint_color\n",
       "white     10029\n",
       "NaN        9267\n",
       "black      7692\n",
       "silver     6244\n",
       "grey       5037\n",
       "blue       4475\n",
       "red        4421\n",
       "green      1396\n",
       "brown      1223\n",
       "custom     1153\n",
       "yellow      255\n",
       "orange      231\n",
       "purple      102\n",
       "Name: count, dtype: int64"
      ]
     },
     "execution_count": 11,
     "metadata": {},
     "output_type": "execute_result"
    }
   ],
   "source": [
    "# Check all the values in the paint_color column\n",
    "df['paint_color'].value_counts(dropna=False)"
   ]
  },
  {
   "cell_type": "code",
   "execution_count": 12,
   "metadata": {},
   "outputs": [
    {
     "data": {
      "text/plain": [
       "paint_color\n",
       "white      10029\n",
       "unknown     9267\n",
       "black       7692\n",
       "silver      6244\n",
       "grey        5037\n",
       "blue        4475\n",
       "red         4421\n",
       "green       1396\n",
       "brown       1223\n",
       "custom      1153\n",
       "yellow       255\n",
       "orange       231\n",
       "purple       102\n",
       "Name: count, dtype: int64"
      ]
     },
     "execution_count": 12,
     "metadata": {},
     "output_type": "execute_result"
    }
   ],
   "source": [
    "# Fill in missing values with the string 'unknown'\n",
    "df['paint_color'] = df['paint_color'].fillna('unknown')\n",
    "\n",
    "# Recheck the value counts for the paint_color column\n",
    "df['paint_color'].value_counts(dropna=False)"
   ]
  },
  {
   "cell_type": "markdown",
   "metadata": {},
   "source": [
    "All missing values have been replaced with the string 'unknown'"
   ]
  },
  {
   "cell_type": "code",
   "execution_count": 13,
   "metadata": {},
   "outputs": [
    {
     "data": {
      "text/plain": [
       "model_year\n",
       "NaN       3619\n",
       "2013.0    3549\n",
       "2012.0    3468\n",
       "2014.0    3448\n",
       "2011.0    3375\n",
       "          ... \n",
       "1948.0       1\n",
       "1961.0       1\n",
       "1936.0       1\n",
       "1949.0       1\n",
       "1929.0       1\n",
       "Name: count, Length: 69, dtype: int64"
      ]
     },
     "execution_count": 13,
     "metadata": {},
     "output_type": "execute_result"
    }
   ],
   "source": [
    "# Check for missing values in the model_year column\n",
    "df['model_year'].value_counts(dropna=False)"
   ]
  },
  {
   "cell_type": "code",
   "execution_count": 14,
   "metadata": {},
   "outputs": [
    {
     "data": {
      "text/plain": [
       "model\n",
       "acura tl             2007.0\n",
       "bmw x5               2010.0\n",
       "buick enclave        2012.0\n",
       "cadillac escalade    2009.0\n",
       "chevrolet camaro     2013.0\n",
       "                      ...  \n",
       "toyota sienna        2008.0\n",
       "toyota tacoma        2010.0\n",
       "toyota tundra        2009.0\n",
       "volkswagen jetta     2012.0\n",
       "volkswagen passat    2013.0\n",
       "Name: model_year, Length: 100, dtype: float64"
      ]
     },
     "execution_count": 14,
     "metadata": {},
     "output_type": "execute_result"
    }
   ],
   "source": [
    "# Check median in model_year column grouped by model\n",
    "df.groupby('model')['model_year'].median()"
   ]
  },
  {
   "cell_type": "code",
   "execution_count": 15,
   "metadata": {},
   "outputs": [
    {
     "data": {
      "text/plain": [
       "model_year\n",
       "2011.0    4017\n",
       "2013.0    3994\n",
       "2012.0    3982\n",
       "2014.0    3540\n",
       "2008.0    3462\n",
       "          ... \n",
       "1948.0       1\n",
       "1961.0       1\n",
       "1936.0       1\n",
       "1949.0       1\n",
       "1929.0       1\n",
       "Name: count, Length: 70, dtype: int64"
      ]
     },
     "execution_count": 15,
     "metadata": {},
     "output_type": "execute_result"
    }
   ],
   "source": [
    "# Replace missing values in the model_year column with the median values for each model\n",
    "df['model_year'] = df.groupby('model')['model_year'].transform(lambda x: x.fillna(x.median()))\n",
    "\n",
    "# Recheck the missing values in the model_year column\n",
    "df['model_year'].value_counts(dropna=False)"
   ]
  },
  {
   "cell_type": "code",
   "execution_count": 16,
   "metadata": {},
   "outputs": [
    {
     "data": {
      "text/plain": [
       "model\n",
       "acura tl             2007.0\n",
       "bmw x5               2010.0\n",
       "buick enclave        2012.0\n",
       "cadillac escalade    2009.0\n",
       "chevrolet camaro     2013.0\n",
       "                      ...  \n",
       "toyota sienna        2008.0\n",
       "toyota tacoma        2010.0\n",
       "toyota tundra        2009.0\n",
       "volkswagen jetta     2012.0\n",
       "volkswagen passat    2013.0\n",
       "Name: model_year, Length: 100, dtype: float64"
      ]
     },
     "execution_count": 16,
     "metadata": {},
     "output_type": "execute_result"
    }
   ],
   "source": [
    "# Recheck median model_year column grouped by model\n",
    "df.groupby('model')['model_year'].median()"
   ]
  },
  {
   "cell_type": "markdown",
   "metadata": {},
   "source": [
    "Each missing model_year has been replaced with the median year that coinciding with each model"
   ]
  },
  {
   "cell_type": "code",
   "execution_count": 17,
   "metadata": {},
   "outputs": [
    {
     "data": {
      "text/plain": [
       "cylinders\n",
       "8.0     15844\n",
       "6.0     15700\n",
       "4.0     13864\n",
       "NaN      5260\n",
       "10.0      549\n",
       "5.0       272\n",
       "3.0        34\n",
       "12.0        2\n",
       "Name: count, dtype: int64"
      ]
     },
     "execution_count": 17,
     "metadata": {},
     "output_type": "execute_result"
    }
   ],
   "source": [
    "# Check for missing values in the cylinder column\n",
    "df['cylinders'].value_counts(dropna=False)"
   ]
  },
  {
   "cell_type": "code",
   "execution_count": 18,
   "metadata": {},
   "outputs": [
    {
     "data": {
      "text/plain": [
       "model\n",
       "acura tl             6.0\n",
       "bmw x5               6.0\n",
       "buick enclave        6.0\n",
       "cadillac escalade    8.0\n",
       "chevrolet camaro     6.0\n",
       "                    ... \n",
       "toyota sienna        6.0\n",
       "toyota tacoma        6.0\n",
       "toyota tundra        8.0\n",
       "volkswagen jetta     4.0\n",
       "volkswagen passat    4.0\n",
       "Name: cylinders, Length: 100, dtype: float64"
      ]
     },
     "execution_count": 18,
     "metadata": {},
     "output_type": "execute_result"
    }
   ],
   "source": [
    "# Check median in cylinders column grouped by model\n",
    "df.groupby('model')['cylinders'].median()"
   ]
  },
  {
   "cell_type": "code",
   "execution_count": 19,
   "metadata": {},
   "outputs": [
    {
     "data": {
      "text/plain": [
       "cylinders\n",
       "8.0     17712\n",
       "6.0     17435\n",
       "4.0     15499\n",
       "10.0      549\n",
       "5.0       294\n",
       "3.0        34\n",
       "12.0        2\n",
       "Name: count, dtype: int64"
      ]
     },
     "execution_count": 19,
     "metadata": {},
     "output_type": "execute_result"
    }
   ],
   "source": [
    "# Replace missing values in the cylinders column with the median values for each model\n",
    "df['cylinders'] = df.groupby('model')['cylinders'].transform(lambda x: x.fillna(x.median()))\n",
    "\n",
    "# Recheck the missing values in the cylinders column\n",
    "df['cylinders'].value_counts(dropna=False)"
   ]
  },
  {
   "cell_type": "code",
   "execution_count": 20,
   "metadata": {},
   "outputs": [
    {
     "data": {
      "text/plain": [
       "model\n",
       "acura tl             6.0\n",
       "bmw x5               6.0\n",
       "buick enclave        6.0\n",
       "cadillac escalade    8.0\n",
       "chevrolet camaro     6.0\n",
       "                    ... \n",
       "toyota sienna        6.0\n",
       "toyota tacoma        6.0\n",
       "toyota tundra        8.0\n",
       "volkswagen jetta     4.0\n",
       "volkswagen passat    4.0\n",
       "Name: cylinders, Length: 100, dtype: float64"
      ]
     },
     "execution_count": 20,
     "metadata": {},
     "output_type": "execute_result"
    }
   ],
   "source": [
    "# Recheck median in cylinders column grouped by model\n",
    "df.groupby('model')['cylinders'].median()"
   ]
  },
  {
   "cell_type": "markdown",
   "metadata": {},
   "source": [
    "Each missing cylindar value has been replaced with the median cylinder value that coinciding with each model"
   ]
  },
  {
   "cell_type": "code",
   "execution_count": 21,
   "metadata": {},
   "outputs": [
    {
     "data": {
      "text/plain": [
       "odometer\n",
       "NaN         7892\n",
       "0.0          185\n",
       "140000.0     183\n",
       "120000.0     179\n",
       "130000.0     178\n",
       "            ... \n",
       "47750.0        1\n",
       "181645.0       1\n",
       "105656.0       1\n",
       "138608.0       1\n",
       "129644.0       1\n",
       "Name: count, Length: 17763, dtype: int64"
      ]
     },
     "execution_count": 21,
     "metadata": {},
     "output_type": "execute_result"
    }
   ],
   "source": [
    "# Check values in the odometer column\n",
    "df['odometer'].value_counts(dropna=False)"
   ]
  },
  {
   "cell_type": "code",
   "execution_count": 22,
   "metadata": {},
   "outputs": [
    {
     "data": {
      "text/plain": [
       "condition\n",
       "excellent    104230.0\n",
       "fair         181613.0\n",
       "good         129000.0\n",
       "like new      72982.5\n",
       "new            8002.0\n",
       "salvage      142673.5\n",
       "Name: odometer, dtype: float64"
      ]
     },
     "execution_count": 22,
     "metadata": {},
     "output_type": "execute_result"
    }
   ],
   "source": [
    "# Check median in odometer column grouped by condition\n",
    "df.groupby('condition')['odometer'].median()"
   ]
  },
  {
   "cell_type": "code",
   "execution_count": 23,
   "metadata": {},
   "outputs": [
    {
     "data": {
      "text/plain": [
       "odometer\n",
       "104230.0    3803\n",
       "129000.0    3199\n",
       "72982.5      728\n",
       "181613.0     237\n",
       "0.0          185\n",
       "            ... \n",
       "111450.0       1\n",
       "47750.0        1\n",
       "181645.0       1\n",
       "105656.0       1\n",
       "138608.0       1\n",
       "Name: count, Length: 17765, dtype: int64"
      ]
     },
     "execution_count": 23,
     "metadata": {},
     "output_type": "execute_result"
    }
   ],
   "source": [
    "# Replace missing values in the odometer column with the median values for each condition\n",
    "df['odometer'] = df.groupby('condition')['odometer'].transform(lambda x: x.fillna(x.median()))\n",
    "\n",
    "# Recheck the missing values in the odometer column\n",
    "df['odometer'].value_counts(dropna=False)"
   ]
  },
  {
   "cell_type": "code",
   "execution_count": 24,
   "metadata": {},
   "outputs": [
    {
     "data": {
      "text/plain": [
       "condition\n",
       "excellent    104230.0\n",
       "fair         181613.0\n",
       "good         129000.0\n",
       "like new      72982.5\n",
       "new            8002.0\n",
       "salvage      142673.5\n",
       "Name: odometer, dtype: float64"
      ]
     },
     "execution_count": 24,
     "metadata": {},
     "output_type": "execute_result"
    }
   ],
   "source": [
    "# Recheck median in odometer column grouped by condition\n",
    "df.groupby('condition')['odometer'].median()"
   ]
  },
  {
   "cell_type": "markdown",
   "metadata": {},
   "source": [
    "Each missing odometer value has been replaced with the median value based on the condition"
   ]
  },
  {
   "cell_type": "code",
   "execution_count": 25,
   "metadata": {},
   "outputs": [
    {
     "data": {
      "text/plain": [
       "price           0\n",
       "model_year      0\n",
       "model           0\n",
       "condition       0\n",
       "cylinders       0\n",
       "fuel            0\n",
       "odometer        0\n",
       "transmission    0\n",
       "type            0\n",
       "paint_color     0\n",
       "is_4wd          0\n",
       "date_posted     0\n",
       "days_listed     0\n",
       "dtype: int64"
      ]
     },
     "execution_count": 25,
     "metadata": {},
     "output_type": "execute_result"
    }
   ],
   "source": [
    "# Recheck for missing values\n",
    "df.isna().sum()"
   ]
  },
  {
   "cell_type": "markdown",
   "metadata": {},
   "source": [
    "All missing values have been resolved."
   ]
  },
  {
   "cell_type": "code",
   "execution_count": 26,
   "metadata": {},
   "outputs": [
    {
     "name": "stdout",
     "output_type": "stream",
     "text": [
      "<class 'pandas.core.frame.DataFrame'>\n",
      "RangeIndex: 51525 entries, 0 to 51524\n",
      "Data columns (total 13 columns):\n",
      " #   Column        Non-Null Count  Dtype  \n",
      "---  ------        --------------  -----  \n",
      " 0   price         51525 non-null  int64  \n",
      " 1   model_year    51525 non-null  float64\n",
      " 2   model         51525 non-null  object \n",
      " 3   condition     51525 non-null  object \n",
      " 4   cylinders     51525 non-null  float64\n",
      " 5   fuel          51525 non-null  object \n",
      " 6   odometer      51525 non-null  float64\n",
      " 7   transmission  51525 non-null  object \n",
      " 8   type          51525 non-null  object \n",
      " 9   paint_color   51525 non-null  object \n",
      " 10  is_4wd        51525 non-null  float64\n",
      " 11  date_posted   51525 non-null  object \n",
      " 12  days_listed   51525 non-null  int64  \n",
      "dtypes: float64(4), int64(2), object(7)\n",
      "memory usage: 5.1+ MB\n"
     ]
    }
   ],
   "source": [
    "df.info()"
   ]
  },
  {
   "cell_type": "markdown",
   "metadata": {},
   "source": [
    "Next steps: Changing data types\n",
    "\n",
    "Several of the column data types do not coincide with the data found in the column.\n",
    "\n",
    "I will change the model_year from float64 to int type\n",
    "\n",
    "I will change cylinders from float64 to int type\n",
    "\n",
    "I will change odometer from float64 to int type\n",
    "\n",
    "I will change is_4wd from float64 to Boolean type\n",
    "\n",
    "I will change date_posted from object to Datetime format"
   ]
  },
  {
   "cell_type": "code",
   "execution_count": 27,
   "metadata": {},
   "outputs": [],
   "source": [
    "# Change model_year, cylinders, and odometer columns to integer data type\n",
    "df['model_year'] = df['model_year'].astype('int')  \n",
    "\n",
    "df['cylinders'] = df['cylinders'].astype('int')  \n",
    "\n",
    "df['odometer'] = df['odometer'].astype('int')  \n"
   ]
  },
  {
   "cell_type": "code",
   "execution_count": 28,
   "metadata": {},
   "outputs": [],
   "source": [
    "# Change is_4wd column to boolean data type\n",
    "df['is_4wd'] = df['is_4wd'].astype(bool)"
   ]
  },
  {
   "cell_type": "code",
   "execution_count": 29,
   "metadata": {},
   "outputs": [],
   "source": [
    "# Change date_posted column to datetime data type\n",
    "df['date_posted'] = pd.to_datetime(df['date_posted'], format='%Y-%m-%d')"
   ]
  },
  {
   "cell_type": "code",
   "execution_count": 30,
   "metadata": {},
   "outputs": [
    {
     "data": {
      "text/plain": [
       "price                    int64\n",
       "model_year               int64\n",
       "model                   object\n",
       "condition               object\n",
       "cylinders                int64\n",
       "fuel                    object\n",
       "odometer                 int64\n",
       "transmission            object\n",
       "type                    object\n",
       "paint_color             object\n",
       "is_4wd                    bool\n",
       "date_posted     datetime64[ns]\n",
       "days_listed              int64\n",
       "dtype: object"
      ]
     },
     "execution_count": 30,
     "metadata": {},
     "output_type": "execute_result"
    }
   ],
   "source": [
    "# Check the data types of the columns\n",
    "df.dtypes"
   ]
  },
  {
   "cell_type": "markdown",
   "metadata": {},
   "source": [
    "All data types were successfully converted"
   ]
  },
  {
   "cell_type": "markdown",
   "metadata": {},
   "source": [
    "Next Steps: Adding Columns\n",
    "\n",
    "To assist with the exploration of the data, I am going to add two columns to the dataframe.\n",
    "\n",
    "The first column that I am going to add is going to be a column that shows the age of the car at the time the ad was posted.\n",
    "\n",
    "The second column that I am going to add is going to show the average milage per year for each car."
   ]
  },
  {
   "cell_type": "code",
   "execution_count": 31,
   "metadata": {},
   "outputs": [],
   "source": [
    "# Add a new column that calculates the vehicle's age when the ad was placed\n",
    "df['vehicle_age'] = df['date_posted'].dt.year - df['model_year']"
   ]
  },
  {
   "cell_type": "code",
   "execution_count": 32,
   "metadata": {},
   "outputs": [],
   "source": [
    "# Add a new column that calculates the vehicle's average mileage per year rounded to the nearest whole number   \n",
    "df['average_mileage'] = df['odometer'] / df['vehicle_age']\n",
    "df['average_mileage'] = df['average_mileage'].round(0)"
   ]
  },
  {
   "cell_type": "code",
   "execution_count": 33,
   "metadata": {},
   "outputs": [
    {
     "data": {
      "text/html": [
       "<div>\n",
       "<style scoped>\n",
       "    .dataframe tbody tr th:only-of-type {\n",
       "        vertical-align: middle;\n",
       "    }\n",
       "\n",
       "    .dataframe tbody tr th {\n",
       "        vertical-align: top;\n",
       "    }\n",
       "\n",
       "    .dataframe thead th {\n",
       "        text-align: right;\n",
       "    }\n",
       "</style>\n",
       "<table border=\"1\" class=\"dataframe\">\n",
       "  <thead>\n",
       "    <tr style=\"text-align: right;\">\n",
       "      <th></th>\n",
       "      <th>price</th>\n",
       "      <th>model_year</th>\n",
       "      <th>model</th>\n",
       "      <th>condition</th>\n",
       "      <th>cylinders</th>\n",
       "      <th>fuel</th>\n",
       "      <th>odometer</th>\n",
       "      <th>transmission</th>\n",
       "      <th>type</th>\n",
       "      <th>paint_color</th>\n",
       "      <th>is_4wd</th>\n",
       "      <th>date_posted</th>\n",
       "      <th>days_listed</th>\n",
       "      <th>vehicle_age</th>\n",
       "      <th>average_mileage</th>\n",
       "    </tr>\n",
       "  </thead>\n",
       "  <tbody>\n",
       "    <tr>\n",
       "      <th>0</th>\n",
       "      <td>9400</td>\n",
       "      <td>2011</td>\n",
       "      <td>bmw x5</td>\n",
       "      <td>good</td>\n",
       "      <td>6</td>\n",
       "      <td>gas</td>\n",
       "      <td>145000</td>\n",
       "      <td>automatic</td>\n",
       "      <td>SUV</td>\n",
       "      <td>unknown</td>\n",
       "      <td>True</td>\n",
       "      <td>2018-06-23</td>\n",
       "      <td>19</td>\n",
       "      <td>7</td>\n",
       "      <td>20714.0</td>\n",
       "    </tr>\n",
       "    <tr>\n",
       "      <th>1</th>\n",
       "      <td>25500</td>\n",
       "      <td>2011</td>\n",
       "      <td>ford f-150</td>\n",
       "      <td>good</td>\n",
       "      <td>6</td>\n",
       "      <td>gas</td>\n",
       "      <td>88705</td>\n",
       "      <td>automatic</td>\n",
       "      <td>pickup</td>\n",
       "      <td>white</td>\n",
       "      <td>True</td>\n",
       "      <td>2018-10-19</td>\n",
       "      <td>50</td>\n",
       "      <td>7</td>\n",
       "      <td>12672.0</td>\n",
       "    </tr>\n",
       "    <tr>\n",
       "      <th>2</th>\n",
       "      <td>5500</td>\n",
       "      <td>2013</td>\n",
       "      <td>hyundai sonata</td>\n",
       "      <td>like new</td>\n",
       "      <td>4</td>\n",
       "      <td>gas</td>\n",
       "      <td>110000</td>\n",
       "      <td>automatic</td>\n",
       "      <td>sedan</td>\n",
       "      <td>red</td>\n",
       "      <td>False</td>\n",
       "      <td>2019-02-07</td>\n",
       "      <td>79</td>\n",
       "      <td>6</td>\n",
       "      <td>18333.0</td>\n",
       "    </tr>\n",
       "    <tr>\n",
       "      <th>3</th>\n",
       "      <td>1500</td>\n",
       "      <td>2003</td>\n",
       "      <td>ford f-150</td>\n",
       "      <td>fair</td>\n",
       "      <td>8</td>\n",
       "      <td>gas</td>\n",
       "      <td>181613</td>\n",
       "      <td>automatic</td>\n",
       "      <td>pickup</td>\n",
       "      <td>unknown</td>\n",
       "      <td>False</td>\n",
       "      <td>2019-03-22</td>\n",
       "      <td>9</td>\n",
       "      <td>16</td>\n",
       "      <td>11351.0</td>\n",
       "    </tr>\n",
       "    <tr>\n",
       "      <th>4</th>\n",
       "      <td>14900</td>\n",
       "      <td>2017</td>\n",
       "      <td>chrysler 200</td>\n",
       "      <td>excellent</td>\n",
       "      <td>4</td>\n",
       "      <td>gas</td>\n",
       "      <td>80903</td>\n",
       "      <td>automatic</td>\n",
       "      <td>sedan</td>\n",
       "      <td>black</td>\n",
       "      <td>False</td>\n",
       "      <td>2019-04-02</td>\n",
       "      <td>28</td>\n",
       "      <td>2</td>\n",
       "      <td>40452.0</td>\n",
       "    </tr>\n",
       "    <tr>\n",
       "      <th>5</th>\n",
       "      <td>14990</td>\n",
       "      <td>2014</td>\n",
       "      <td>chrysler 300</td>\n",
       "      <td>excellent</td>\n",
       "      <td>6</td>\n",
       "      <td>gas</td>\n",
       "      <td>57954</td>\n",
       "      <td>automatic</td>\n",
       "      <td>sedan</td>\n",
       "      <td>black</td>\n",
       "      <td>True</td>\n",
       "      <td>2018-06-20</td>\n",
       "      <td>15</td>\n",
       "      <td>4</td>\n",
       "      <td>14488.0</td>\n",
       "    </tr>\n",
       "    <tr>\n",
       "      <th>6</th>\n",
       "      <td>12990</td>\n",
       "      <td>2015</td>\n",
       "      <td>toyota camry</td>\n",
       "      <td>excellent</td>\n",
       "      <td>4</td>\n",
       "      <td>gas</td>\n",
       "      <td>79212</td>\n",
       "      <td>automatic</td>\n",
       "      <td>sedan</td>\n",
       "      <td>white</td>\n",
       "      <td>False</td>\n",
       "      <td>2018-12-27</td>\n",
       "      <td>73</td>\n",
       "      <td>3</td>\n",
       "      <td>26404.0</td>\n",
       "    </tr>\n",
       "    <tr>\n",
       "      <th>7</th>\n",
       "      <td>15990</td>\n",
       "      <td>2013</td>\n",
       "      <td>honda pilot</td>\n",
       "      <td>excellent</td>\n",
       "      <td>6</td>\n",
       "      <td>gas</td>\n",
       "      <td>109473</td>\n",
       "      <td>automatic</td>\n",
       "      <td>SUV</td>\n",
       "      <td>black</td>\n",
       "      <td>True</td>\n",
       "      <td>2019-01-07</td>\n",
       "      <td>68</td>\n",
       "      <td>6</td>\n",
       "      <td>18246.0</td>\n",
       "    </tr>\n",
       "    <tr>\n",
       "      <th>8</th>\n",
       "      <td>11500</td>\n",
       "      <td>2012</td>\n",
       "      <td>kia sorento</td>\n",
       "      <td>excellent</td>\n",
       "      <td>4</td>\n",
       "      <td>gas</td>\n",
       "      <td>104174</td>\n",
       "      <td>automatic</td>\n",
       "      <td>SUV</td>\n",
       "      <td>unknown</td>\n",
       "      <td>True</td>\n",
       "      <td>2018-07-16</td>\n",
       "      <td>19</td>\n",
       "      <td>6</td>\n",
       "      <td>17362.0</td>\n",
       "    </tr>\n",
       "    <tr>\n",
       "      <th>9</th>\n",
       "      <td>9200</td>\n",
       "      <td>2008</td>\n",
       "      <td>honda pilot</td>\n",
       "      <td>excellent</td>\n",
       "      <td>6</td>\n",
       "      <td>gas</td>\n",
       "      <td>147191</td>\n",
       "      <td>automatic</td>\n",
       "      <td>SUV</td>\n",
       "      <td>blue</td>\n",
       "      <td>True</td>\n",
       "      <td>2019-02-15</td>\n",
       "      <td>17</td>\n",
       "      <td>11</td>\n",
       "      <td>13381.0</td>\n",
       "    </tr>\n",
       "  </tbody>\n",
       "</table>\n",
       "</div>"
      ],
      "text/plain": [
       "   price  model_year           model  condition  cylinders fuel  odometer  \\\n",
       "0   9400        2011          bmw x5       good          6  gas    145000   \n",
       "1  25500        2011      ford f-150       good          6  gas     88705   \n",
       "2   5500        2013  hyundai sonata   like new          4  gas    110000   \n",
       "3   1500        2003      ford f-150       fair          8  gas    181613   \n",
       "4  14900        2017    chrysler 200  excellent          4  gas     80903   \n",
       "5  14990        2014    chrysler 300  excellent          6  gas     57954   \n",
       "6  12990        2015    toyota camry  excellent          4  gas     79212   \n",
       "7  15990        2013     honda pilot  excellent          6  gas    109473   \n",
       "8  11500        2012     kia sorento  excellent          4  gas    104174   \n",
       "9   9200        2008     honda pilot  excellent          6  gas    147191   \n",
       "\n",
       "  transmission    type paint_color  is_4wd date_posted  days_listed  \\\n",
       "0    automatic     SUV     unknown    True  2018-06-23           19   \n",
       "1    automatic  pickup       white    True  2018-10-19           50   \n",
       "2    automatic   sedan         red   False  2019-02-07           79   \n",
       "3    automatic  pickup     unknown   False  2019-03-22            9   \n",
       "4    automatic   sedan       black   False  2019-04-02           28   \n",
       "5    automatic   sedan       black    True  2018-06-20           15   \n",
       "6    automatic   sedan       white   False  2018-12-27           73   \n",
       "7    automatic     SUV       black    True  2019-01-07           68   \n",
       "8    automatic     SUV     unknown    True  2018-07-16           19   \n",
       "9    automatic     SUV        blue    True  2019-02-15           17   \n",
       "\n",
       "   vehicle_age  average_mileage  \n",
       "0            7          20714.0  \n",
       "1            7          12672.0  \n",
       "2            6          18333.0  \n",
       "3           16          11351.0  \n",
       "4            2          40452.0  \n",
       "5            4          14488.0  \n",
       "6            3          26404.0  \n",
       "7            6          18246.0  \n",
       "8            6          17362.0  \n",
       "9           11          13381.0  "
      ]
     },
     "execution_count": 33,
     "metadata": {},
     "output_type": "execute_result"
    }
   ],
   "source": [
    "# Display the first few rows of the modified dataset\n",
    "df.head(10)\n"
   ]
  },
  {
   "cell_type": "code",
   "execution_count": 34,
   "metadata": {},
   "outputs": [
    {
     "name": "stdout",
     "output_type": "stream",
     "text": [
      "<class 'pandas.core.frame.DataFrame'>\n",
      "RangeIndex: 51525 entries, 0 to 51524\n",
      "Data columns (total 15 columns):\n",
      " #   Column           Non-Null Count  Dtype         \n",
      "---  ------           --------------  -----         \n",
      " 0   price            51525 non-null  int64         \n",
      " 1   model_year       51525 non-null  int64         \n",
      " 2   model            51525 non-null  object        \n",
      " 3   condition        51525 non-null  object        \n",
      " 4   cylinders        51525 non-null  int64         \n",
      " 5   fuel             51525 non-null  object        \n",
      " 6   odometer         51525 non-null  int64         \n",
      " 7   transmission     51525 non-null  object        \n",
      " 8   type             51525 non-null  object        \n",
      " 9   paint_color      51525 non-null  object        \n",
      " 10  is_4wd           51525 non-null  bool          \n",
      " 11  date_posted      51525 non-null  datetime64[ns]\n",
      " 12  days_listed      51525 non-null  int64         \n",
      " 13  vehicle_age      51525 non-null  int64         \n",
      " 14  average_mileage  51523 non-null  float64       \n",
      "dtypes: bool(1), datetime64[ns](1), float64(1), int64(6), object(6)\n",
      "memory usage: 5.6+ MB\n"
     ]
    }
   ],
   "source": [
    "# display information about the dataset to check for missing values in the new columns\n",
    "df.info()"
   ]
  },
  {
   "cell_type": "markdown",
   "metadata": {},
   "source": [
    "When looking at the data, I see that there are two missing values for my average_mileage column."
   ]
  },
  {
   "cell_type": "code",
   "execution_count": 35,
   "metadata": {},
   "outputs": [
    {
     "data": {
      "text/html": [
       "<div>\n",
       "<style scoped>\n",
       "    .dataframe tbody tr th:only-of-type {\n",
       "        vertical-align: middle;\n",
       "    }\n",
       "\n",
       "    .dataframe tbody tr th {\n",
       "        vertical-align: top;\n",
       "    }\n",
       "\n",
       "    .dataframe thead th {\n",
       "        text-align: right;\n",
       "    }\n",
       "</style>\n",
       "<table border=\"1\" class=\"dataframe\">\n",
       "  <thead>\n",
       "    <tr style=\"text-align: right;\">\n",
       "      <th></th>\n",
       "      <th>price</th>\n",
       "      <th>model_year</th>\n",
       "      <th>model</th>\n",
       "      <th>condition</th>\n",
       "      <th>cylinders</th>\n",
       "      <th>fuel</th>\n",
       "      <th>odometer</th>\n",
       "      <th>transmission</th>\n",
       "      <th>type</th>\n",
       "      <th>paint_color</th>\n",
       "      <th>is_4wd</th>\n",
       "      <th>date_posted</th>\n",
       "      <th>days_listed</th>\n",
       "      <th>vehicle_age</th>\n",
       "      <th>average_mileage</th>\n",
       "    </tr>\n",
       "  </thead>\n",
       "  <tbody>\n",
       "    <tr>\n",
       "      <th>17037</th>\n",
       "      <td>45400</td>\n",
       "      <td>2018</td>\n",
       "      <td>ram 3500</td>\n",
       "      <td>excellent</td>\n",
       "      <td>6</td>\n",
       "      <td>diesel</td>\n",
       "      <td>0</td>\n",
       "      <td>automatic</td>\n",
       "      <td>pickup</td>\n",
       "      <td>black</td>\n",
       "      <td>True</td>\n",
       "      <td>2018-12-16</td>\n",
       "      <td>18</td>\n",
       "      <td>0</td>\n",
       "      <td>NaN</td>\n",
       "    </tr>\n",
       "    <tr>\n",
       "      <th>40489</th>\n",
       "      <td>15900</td>\n",
       "      <td>2018</td>\n",
       "      <td>toyota prius</td>\n",
       "      <td>excellent</td>\n",
       "      <td>4</td>\n",
       "      <td>hybrid</td>\n",
       "      <td>0</td>\n",
       "      <td>automatic</td>\n",
       "      <td>hatchback</td>\n",
       "      <td>blue</td>\n",
       "      <td>False</td>\n",
       "      <td>2018-07-30</td>\n",
       "      <td>31</td>\n",
       "      <td>0</td>\n",
       "      <td>NaN</td>\n",
       "    </tr>\n",
       "  </tbody>\n",
       "</table>\n",
       "</div>"
      ],
      "text/plain": [
       "       price  model_year         model  condition  cylinders    fuel  \\\n",
       "17037  45400        2018      ram 3500  excellent          6  diesel   \n",
       "40489  15900        2018  toyota prius  excellent          4  hybrid   \n",
       "\n",
       "       odometer transmission       type paint_color  is_4wd date_posted  \\\n",
       "17037         0    automatic     pickup       black    True  2018-12-16   \n",
       "40489         0    automatic  hatchback        blue   False  2018-07-30   \n",
       "\n",
       "       days_listed  vehicle_age  average_mileage  \n",
       "17037           18            0              NaN  \n",
       "40489           31            0              NaN  "
      ]
     },
     "execution_count": 35,
     "metadata": {},
     "output_type": "execute_result"
    }
   ],
   "source": [
    "# Display rows with missing values in the new columns\n",
    "df[df['vehicle_age'].isna()]\n",
    "\n",
    "df[df['average_mileage'].isna()]"
   ]
  },
  {
   "cell_type": "markdown",
   "metadata": {},
   "source": [
    "I see that the vehicles age is listed as 0 year. I want to replace all vehicle age values that are zero with 1. \n",
    "\n",
    "I want to replace all missing values for mileage with 0."
   ]
  },
  {
   "cell_type": "code",
   "execution_count": 36,
   "metadata": {},
   "outputs": [],
   "source": [
    "# Replace values of 0 in the vehicle_age column with 1\n",
    "df['vehicle_age'] = df['vehicle_age'].replace(0, 1)\n",
    "\n",
    "# Replave missing values in the average_mileage column with 0\n",
    "df['average_mileage'] = df['average_mileage'].fillna(0)"
   ]
  },
  {
   "cell_type": "code",
   "execution_count": 37,
   "metadata": {},
   "outputs": [
    {
     "data": {
      "text/plain": [
       "vehicle_age\n",
       "1     4258\n",
       "7     4066\n",
       "6     3948\n",
       "5     3845\n",
       "4     3532\n",
       "      ... \n",
       "71       1\n",
       "59       1\n",
       "82       1\n",
       "69       1\n",
       "89       1\n",
       "Name: count, Length: 67, dtype: int64"
      ]
     },
     "execution_count": 37,
     "metadata": {},
     "output_type": "execute_result"
    }
   ],
   "source": [
    "# Check for 0 values in the vehicle_age column\n",
    "df['vehicle_age'].value_counts()"
   ]
  },
  {
   "cell_type": "code",
   "execution_count": 38,
   "metadata": {},
   "outputs": [
    {
     "data": {
      "text/plain": [
       "np.int64(51525)"
      ]
     },
     "execution_count": 38,
     "metadata": {},
     "output_type": "execute_result"
    }
   ],
   "source": [
    "# Check for missing values in the average_mileage column\n",
    "df['average_mileage'].value_counts().sum()"
   ]
  },
  {
   "cell_type": "code",
   "execution_count": 39,
   "metadata": {},
   "outputs": [
    {
     "name": "stdout",
     "output_type": "stream",
     "text": [
      "<class 'pandas.core.frame.DataFrame'>\n",
      "RangeIndex: 51525 entries, 0 to 51524\n",
      "Data columns (total 15 columns):\n",
      " #   Column           Non-Null Count  Dtype         \n",
      "---  ------           --------------  -----         \n",
      " 0   price            51525 non-null  int64         \n",
      " 1   model_year       51525 non-null  int64         \n",
      " 2   model            51525 non-null  object        \n",
      " 3   condition        51525 non-null  object        \n",
      " 4   cylinders        51525 non-null  int64         \n",
      " 5   fuel             51525 non-null  object        \n",
      " 6   odometer         51525 non-null  int64         \n",
      " 7   transmission     51525 non-null  object        \n",
      " 8   type             51525 non-null  object        \n",
      " 9   paint_color      51525 non-null  object        \n",
      " 10  is_4wd           51525 non-null  bool          \n",
      " 11  date_posted      51525 non-null  datetime64[ns]\n",
      " 12  days_listed      51525 non-null  int64         \n",
      " 13  vehicle_age      51525 non-null  int64         \n",
      " 14  average_mileage  51525 non-null  float64       \n",
      "dtypes: bool(1), datetime64[ns](1), float64(1), int64(6), object(6)\n",
      "memory usage: 5.6+ MB\n"
     ]
    }
   ],
   "source": [
    "df.info()"
   ]
  },
  {
   "cell_type": "markdown",
   "metadata": {},
   "source": [
    "All missing values have been replaced."
   ]
  },
  {
   "cell_type": "markdown",
   "metadata": {},
   "source": [
    "Visual Data Analysis"
   ]
  },
  {
   "cell_type": "code",
   "execution_count": 42,
   "metadata": {},
   "outputs": [
    {
     "name": "stdout",
     "output_type": "stream",
     "text": [
      "                                model  count\n",
      "0                          ford f-150   2796\n",
      "1            chevrolet silverado 1500   2171\n",
      "2                            ram 1500   1750\n",
      "3                 chevrolet silverado   1271\n",
      "4                       jeep wrangler   1119\n",
      "..                                ...    ...\n",
      "95              ford f-250 super duty    241\n",
      "96                           acura tl    236\n",
      "97                        kia sorento    236\n",
      "98                      nissan murano    235\n",
      "99  mercedes-benz benze sprinter 2500     41\n",
      "\n",
      "[100 rows x 2 columns]\n"
     ]
    }
   ],
   "source": [
    "# Count Cars by model \n",
    "model_count = df['model'].value_counts().reset_index()\n",
    "\n",
    "print(model_count)"
   ]
  },
  {
   "cell_type": "code",
   "execution_count": 40,
   "metadata": {
    "vscode": {
     "languageId": "markdown"
    }
   },
   "outputs": [
    {
     "name": "stderr",
     "output_type": "stream",
     "text": [
      "c:\\Users\\md_mh\\AppData\\Local\\Programs\\Python\\Python313\\Lib\\site-packages\\IPython\\core\\pylabtools.py:170: UserWarning: Creating legend with loc=\"best\" can be slow with large amounts of data.\n",
      "  fig.canvas.print_figure(bytes_io, **kw)\n"
     ]
    },
    {
     "data": {
      "image/png": "[encoded data removed]",
      "text/plain": [
       "<Figure size 640x480 with 1 Axes>"
      ]
     },
     "metadata": {},
     "output_type": "display_data"
    }
   ],
   "source": [
    "# Bar graph showing the distribution of the number of ads for each model\n",
    "\n",
    "df.plot(x='model', kind='bar', title='Number of Cars by Model', xlabel='Year', ylabel='Number of Cars')\n",
    "\n",
    "plt.legend(['model'])\n",
    "plt.show()\n"
   ]
  }
 ],
 "metadata": {
  "kernelspec": {
   "display_name": "Python 3",
   "language": "python",
   "name": "python3"
  },
  "language_info": {
   "codemirror_mode": {
    "name": "ipython",
    "version": 3
   },
   "file_extension": ".py",
   "mimetype": "text/x-python",
   "name": "python",
   "nbconvert_exporter": "python",
   "pygments_lexer": "ipython3",
   "version": "3.13.2"
  }
 },
 "nbformat": 4,
 "nbformat_minor": 2
}
